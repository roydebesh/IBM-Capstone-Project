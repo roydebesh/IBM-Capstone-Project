{
 "cells": [
  {
   "cell_type": "markdown",
   "metadata": {},
   "source": [
    "# IBM Capstone Project - The Battle of Neighborhoods\n",
    "\n",
    "#### Applying Data Science using Python & Machine learning to identify the suitable place to stay in Madrid\n",
    "\n",
    "## The Selection of Neighborhoods for **_Staying in a suitable location in Madrid_**\n",
    "\n",
    "by _Debesh Roy_<br>\n",
    "15Aug2020\n",
    "\n",
    "### **1 - Introduction**\n",
    "Due to the present era fo Globalization, people are moving around the globe, knowing or without knowing much about the destination and surrounding neighbourhoods, where they are going to stay for sometime – months to years.\n",
    "\n",
    "### **2 - Background**\n",
    "Madrid is the capital and most populous city of Spain. The city has almost 3.3 million inhabitants and a metropolitan area population of approximately 6.5 million. It is the second-largest city in the European Union (EU), surpassed only by Berlin, and its monocentric metropolitan area is the second-largest in the EU, surpassed only by Paris.The municipality covers 604.3 km2 (233.3 sq mi).\n",
    "\n",
    "Madrid is a city of elegant boulevards and expansive, manicured parks and many more. It’s renowned for its rich repositories of European art, including the Prado Museum’s works by Goya, Velázquez and other Spanish masters. The heart of old Hapsburg Madrid is the portico-lined Plaza Mayor, and nearby is the baroque Royal Palace and Armory, displaying historic weaponry.\n",
    "\n",
    "In this project we will try to find a suitable locations for staying, who is planning to relocate to Madrid for some time, based on his/her personal preferences of the surrounding neighbourhoods.\n",
    "\n",
    "We will use the data science mechanism to generate more information about the nearby venues and whereabouts, which will help stakeholders or interested people to take the decision and plan accordingly.\n",
    "\n",
    "### **3 – Data**\n",
    "We will mainly use the wiki sites to extrace the data for these informations for Madrid:<br>\n",
    "https://en.wikipedia.org/wiki/Districts_of_Madrid\n",
    "\n",
    "We might use few more additional sites as required, listed below but not limited to:<br>\n",
    "https://www.cs.mcgill.ca/~rwest/wikispeedia/wpcd/wp/m/Madrid.htm\n",
    "\n",
    "Finally we will also use Foursquare’s API for the location search<br>\n",
    "https://foursquare.com\n"
   ]
  },
  {
   "cell_type": "code",
   "execution_count": null,
   "metadata": {},
   "outputs": [],
   "source": []
  },
  {
   "cell_type": "code",
   "execution_count": null,
   "metadata": {},
   "outputs": [],
   "source": []
  }
 ],
 "metadata": {
  "kernelspec": {
   "display_name": "Python 3",
   "language": "python",
   "name": "python3"
  },
  "language_info": {
   "codemirror_mode": {
    "name": "ipython",
    "version": 3
   },
   "file_extension": ".py",
   "mimetype": "text/x-python",
   "name": "python",
   "nbconvert_exporter": "python",
   "pygments_lexer": "ipython3",
   "version": "3.7.3"
  }
 },
 "nbformat": 4,
 "nbformat_minor": 4
}
